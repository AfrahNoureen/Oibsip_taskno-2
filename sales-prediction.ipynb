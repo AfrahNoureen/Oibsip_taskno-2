{
 "cells": [
  {
   "cell_type": "code",
   "execution_count": 1,
   "id": "ca6deeb6",
   "metadata": {
    "_cell_guid": "b1076dfc-b9ad-4769-8c92-a6c4dae69d19",
    "_uuid": "8f2839f25d086af736a60e9eeb907d3b93b6e0e5",
    "execution": {
     "iopub.execute_input": "2023-03-07T07:22:17.293304Z",
     "iopub.status.busy": "2023-03-07T07:22:17.292901Z",
     "iopub.status.idle": "2023-03-07T07:22:17.313507Z",
     "shell.execute_reply": "2023-03-07T07:22:17.312122Z"
    },
    "papermill": {
     "duration": 0.039901,
     "end_time": "2023-03-07T07:22:17.316729",
     "exception": false,
     "start_time": "2023-03-07T07:22:17.276828",
     "status": "completed"
    },
    "tags": []
   },
   "outputs": [
    {
     "name": "stdout",
     "output_type": "stream",
     "text": [
      "/kaggle/input/advertisingcsv/Advertising.csv\n"
     ]
    }
   ],
   "source": [
    "# This Python 3 environment comes with many helpful analytics libraries installed\n",
    "# It is defined by the kaggle/python Docker image: https://github.com/kaggle/docker-python\n",
    "# For example, here's several helpful packages to load\n",
    "\n",
    "import numpy as np # linear algebra\n",
    "import pandas as pd # data processing, CSV file I/O (e.g. pd.read_csv)\n",
    "\n",
    "# Input data files are available in the read-only \"../input/\" directory\n",
    "# For example, running this (by clicking run or pressing Shift+Enter) will list all files under the input directory\n",
    "\n",
    "import os\n",
    "for dirname, _, filenames in os.walk('/kaggle/input'):\n",
    "    for filename in filenames:\n",
    "        print(os.path.join(dirname, filename))\n",
    "\n",
    "# You can write up to 20GB to the current directory (/kaggle/working/) that gets preserved as output when you create a version using \"Save & Run All\" \n",
    "# You can also write temporary files to /kaggle/temp/, but they won't be saved outside of the current session"
   ]
  },
  {
   "cell_type": "code",
   "execution_count": 2,
   "id": "fa160e26",
   "metadata": {
    "execution": {
     "iopub.execute_input": "2023-03-07T07:22:17.344993Z",
     "iopub.status.busy": "2023-03-07T07:22:17.344162Z",
     "iopub.status.idle": "2023-03-07T07:22:18.641664Z",
     "shell.execute_reply": "2023-03-07T07:22:18.640380Z"
    },
    "papermill": {
     "duration": 1.314864,
     "end_time": "2023-03-07T07:22:18.644710",
     "exception": false,
     "start_time": "2023-03-07T07:22:17.329846",
     "status": "completed"
    },
    "tags": []
   },
   "outputs": [],
   "source": [
    "import numpy as np \n",
    "import pandas as pd \n",
    "import matplotlib.pyplot as plt \n",
    "import seaborn as sns\n",
    "import warnings \n",
    "warnings.filterwarnings('ignore')"
   ]
  },
  {
   "cell_type": "code",
   "execution_count": 3,
   "id": "6fb79792",
   "metadata": {
    "execution": {
     "iopub.execute_input": "2023-03-07T07:22:18.675738Z",
     "iopub.status.busy": "2023-03-07T07:22:18.674754Z",
     "iopub.status.idle": "2023-03-07T07:22:18.689843Z",
     "shell.execute_reply": "2023-03-07T07:22:18.688273Z"
    },
    "papermill": {
     "duration": 0.032379,
     "end_time": "2023-03-07T07:22:18.692762",
     "exception": false,
     "start_time": "2023-03-07T07:22:18.660383",
     "status": "completed"
    },
    "tags": []
   },
   "outputs": [],
   "source": [
    "df=pd.read_csv('/kaggle/input/advertisingcsv/Advertising.csv')"
   ]
  },
  {
   "cell_type": "code",
   "execution_count": 4,
   "id": "3fb6fb7f",
   "metadata": {
    "execution": {
     "iopub.execute_input": "2023-03-07T07:22:18.721544Z",
     "iopub.status.busy": "2023-03-07T07:22:18.721130Z",
     "iopub.status.idle": "2023-03-07T07:22:18.751171Z",
     "shell.execute_reply": "2023-03-07T07:22:18.750026Z"
    },
    "papermill": {
     "duration": 0.046765,
     "end_time": "2023-03-07T07:22:18.753597",
     "exception": false,
     "start_time": "2023-03-07T07:22:18.706832",
     "status": "completed"
    },
    "tags": []
   },
   "outputs": [
    {
     "data": {
      "text/html": [
       "<div>\n",
       "<style scoped>\n",
       "    .dataframe tbody tr th:only-of-type {\n",
       "        vertical-align: middle;\n",
       "    }\n",
       "\n",
       "    .dataframe tbody tr th {\n",
       "        vertical-align: top;\n",
       "    }\n",
       "\n",
       "    .dataframe thead th {\n",
       "        text-align: right;\n",
       "    }\n",
       "</style>\n",
       "<table border=\"1\" class=\"dataframe\">\n",
       "  <thead>\n",
       "    <tr style=\"text-align: right;\">\n",
       "      <th></th>\n",
       "      <th>Unnamed: 0</th>\n",
       "      <th>TV</th>\n",
       "      <th>Radio</th>\n",
       "      <th>Newspaper</th>\n",
       "      <th>Sales</th>\n",
       "    </tr>\n",
       "  </thead>\n",
       "  <tbody>\n",
       "    <tr>\n",
       "      <th>0</th>\n",
       "      <td>1</td>\n",
       "      <td>230.1</td>\n",
       "      <td>37.8</td>\n",
       "      <td>69.2</td>\n",
       "      <td>22.1</td>\n",
       "    </tr>\n",
       "    <tr>\n",
       "      <th>1</th>\n",
       "      <td>2</td>\n",
       "      <td>44.5</td>\n",
       "      <td>39.3</td>\n",
       "      <td>45.1</td>\n",
       "      <td>10.4</td>\n",
       "    </tr>\n",
       "    <tr>\n",
       "      <th>2</th>\n",
       "      <td>3</td>\n",
       "      <td>17.2</td>\n",
       "      <td>45.9</td>\n",
       "      <td>69.3</td>\n",
       "      <td>9.3</td>\n",
       "    </tr>\n",
       "    <tr>\n",
       "      <th>3</th>\n",
       "      <td>4</td>\n",
       "      <td>151.5</td>\n",
       "      <td>41.3</td>\n",
       "      <td>58.5</td>\n",
       "      <td>18.5</td>\n",
       "    </tr>\n",
       "    <tr>\n",
       "      <th>4</th>\n",
       "      <td>5</td>\n",
       "      <td>180.8</td>\n",
       "      <td>10.8</td>\n",
       "      <td>58.4</td>\n",
       "      <td>12.9</td>\n",
       "    </tr>\n",
       "  </tbody>\n",
       "</table>\n",
       "</div>"
      ],
      "text/plain": [
       "   Unnamed: 0     TV  Radio  Newspaper  Sales\n",
       "0           1  230.1   37.8       69.2   22.1\n",
       "1           2   44.5   39.3       45.1   10.4\n",
       "2           3   17.2   45.9       69.3    9.3\n",
       "3           4  151.5   41.3       58.5   18.5\n",
       "4           5  180.8   10.8       58.4   12.9"
      ]
     },
     "execution_count": 4,
     "metadata": {},
     "output_type": "execute_result"
    }
   ],
   "source": [
    "df.head()"
   ]
  },
  {
   "cell_type": "code",
   "execution_count": 5,
   "id": "29e7af07",
   "metadata": {
    "execution": {
     "iopub.execute_input": "2023-03-07T07:22:18.781970Z",
     "iopub.status.busy": "2023-03-07T07:22:18.781543Z",
     "iopub.status.idle": "2023-03-07T07:22:18.788897Z",
     "shell.execute_reply": "2023-03-07T07:22:18.787582Z"
    },
    "papermill": {
     "duration": 0.024761,
     "end_time": "2023-03-07T07:22:18.791347",
     "exception": false,
     "start_time": "2023-03-07T07:22:18.766586",
     "status": "completed"
    },
    "tags": []
   },
   "outputs": [
    {
     "data": {
      "text/plain": [
       "(200, 5)"
      ]
     },
     "execution_count": 5,
     "metadata": {},
     "output_type": "execute_result"
    }
   ],
   "source": [
    "df.shape"
   ]
  },
  {
   "cell_type": "code",
   "execution_count": 6,
   "id": "413e473d",
   "metadata": {
    "execution": {
     "iopub.execute_input": "2023-03-07T07:22:18.819575Z",
     "iopub.status.busy": "2023-03-07T07:22:18.819090Z",
     "iopub.status.idle": "2023-03-07T07:22:18.827260Z",
     "shell.execute_reply": "2023-03-07T07:22:18.825836Z"
    },
    "papermill": {
     "duration": 0.026377,
     "end_time": "2023-03-07T07:22:18.830835",
     "exception": false,
     "start_time": "2023-03-07T07:22:18.804458",
     "status": "completed"
    },
    "tags": []
   },
   "outputs": [
    {
     "data": {
      "text/plain": [
       "['Unnamed: 0', 'TV', 'Radio', 'Newspaper', 'Sales']"
      ]
     },
     "execution_count": 6,
     "metadata": {},
     "output_type": "execute_result"
    }
   ],
   "source": [
    "df.columns.values.tolist()"
   ]
  },
  {
   "cell_type": "code",
   "execution_count": 7,
   "id": "3273c3c9",
   "metadata": {
    "execution": {
     "iopub.execute_input": "2023-03-07T07:22:18.860162Z",
     "iopub.status.busy": "2023-03-07T07:22:18.859764Z",
     "iopub.status.idle": "2023-03-07T07:22:18.884611Z",
     "shell.execute_reply": "2023-03-07T07:22:18.883225Z"
    },
    "papermill": {
     "duration": 0.043426,
     "end_time": "2023-03-07T07:22:18.887682",
     "exception": false,
     "start_time": "2023-03-07T07:22:18.844256",
     "status": "completed"
    },
    "tags": []
   },
   "outputs": [
    {
     "name": "stdout",
     "output_type": "stream",
     "text": [
      "<class 'pandas.core.frame.DataFrame'>\n",
      "RangeIndex: 200 entries, 0 to 199\n",
      "Data columns (total 5 columns):\n",
      " #   Column      Non-Null Count  Dtype  \n",
      "---  ------      --------------  -----  \n",
      " 0   Unnamed: 0  200 non-null    int64  \n",
      " 1   TV          200 non-null    float64\n",
      " 2   Radio       200 non-null    float64\n",
      " 3   Newspaper   200 non-null    float64\n",
      " 4   Sales       200 non-null    float64\n",
      "dtypes: float64(4), int64(1)\n",
      "memory usage: 7.9 KB\n"
     ]
    }
   ],
   "source": [
    "df.info()"
   ]
  },
  {
   "cell_type": "code",
   "execution_count": 8,
   "id": "d1d8abac",
   "metadata": {
    "execution": {
     "iopub.execute_input": "2023-03-07T07:22:18.916983Z",
     "iopub.status.busy": "2023-03-07T07:22:18.916575Z",
     "iopub.status.idle": "2023-03-07T07:22:18.945841Z",
     "shell.execute_reply": "2023-03-07T07:22:18.944487Z"
    },
    "papermill": {
     "duration": 0.047139,
     "end_time": "2023-03-07T07:22:18.948322",
     "exception": false,
     "start_time": "2023-03-07T07:22:18.901183",
     "status": "completed"
    },
    "tags": []
   },
   "outputs": [
    {
     "data": {
      "text/html": [
       "<div>\n",
       "<style scoped>\n",
       "    .dataframe tbody tr th:only-of-type {\n",
       "        vertical-align: middle;\n",
       "    }\n",
       "\n",
       "    .dataframe tbody tr th {\n",
       "        vertical-align: top;\n",
       "    }\n",
       "\n",
       "    .dataframe thead th {\n",
       "        text-align: right;\n",
       "    }\n",
       "</style>\n",
       "<table border=\"1\" class=\"dataframe\">\n",
       "  <thead>\n",
       "    <tr style=\"text-align: right;\">\n",
       "      <th></th>\n",
       "      <th>Unnamed: 0</th>\n",
       "      <th>TV</th>\n",
       "      <th>Radio</th>\n",
       "      <th>Newspaper</th>\n",
       "      <th>Sales</th>\n",
       "    </tr>\n",
       "  </thead>\n",
       "  <tbody>\n",
       "    <tr>\n",
       "      <th>count</th>\n",
       "      <td>200.000000</td>\n",
       "      <td>200.000000</td>\n",
       "      <td>200.000000</td>\n",
       "      <td>200.000000</td>\n",
       "      <td>200.000000</td>\n",
       "    </tr>\n",
       "    <tr>\n",
       "      <th>mean</th>\n",
       "      <td>100.500000</td>\n",
       "      <td>147.042500</td>\n",
       "      <td>23.264000</td>\n",
       "      <td>30.554000</td>\n",
       "      <td>14.022500</td>\n",
       "    </tr>\n",
       "    <tr>\n",
       "      <th>std</th>\n",
       "      <td>57.879185</td>\n",
       "      <td>85.854236</td>\n",
       "      <td>14.846809</td>\n",
       "      <td>21.778621</td>\n",
       "      <td>5.217457</td>\n",
       "    </tr>\n",
       "    <tr>\n",
       "      <th>min</th>\n",
       "      <td>1.000000</td>\n",
       "      <td>0.700000</td>\n",
       "      <td>0.000000</td>\n",
       "      <td>0.300000</td>\n",
       "      <td>1.600000</td>\n",
       "    </tr>\n",
       "    <tr>\n",
       "      <th>25%</th>\n",
       "      <td>50.750000</td>\n",
       "      <td>74.375000</td>\n",
       "      <td>9.975000</td>\n",
       "      <td>12.750000</td>\n",
       "      <td>10.375000</td>\n",
       "    </tr>\n",
       "    <tr>\n",
       "      <th>50%</th>\n",
       "      <td>100.500000</td>\n",
       "      <td>149.750000</td>\n",
       "      <td>22.900000</td>\n",
       "      <td>25.750000</td>\n",
       "      <td>12.900000</td>\n",
       "    </tr>\n",
       "    <tr>\n",
       "      <th>75%</th>\n",
       "      <td>150.250000</td>\n",
       "      <td>218.825000</td>\n",
       "      <td>36.525000</td>\n",
       "      <td>45.100000</td>\n",
       "      <td>17.400000</td>\n",
       "    </tr>\n",
       "    <tr>\n",
       "      <th>max</th>\n",
       "      <td>200.000000</td>\n",
       "      <td>296.400000</td>\n",
       "      <td>49.600000</td>\n",
       "      <td>114.000000</td>\n",
       "      <td>27.000000</td>\n",
       "    </tr>\n",
       "  </tbody>\n",
       "</table>\n",
       "</div>"
      ],
      "text/plain": [
       "       Unnamed: 0          TV       Radio   Newspaper       Sales\n",
       "count  200.000000  200.000000  200.000000  200.000000  200.000000\n",
       "mean   100.500000  147.042500   23.264000   30.554000   14.022500\n",
       "std     57.879185   85.854236   14.846809   21.778621    5.217457\n",
       "min      1.000000    0.700000    0.000000    0.300000    1.600000\n",
       "25%     50.750000   74.375000    9.975000   12.750000   10.375000\n",
       "50%    100.500000  149.750000   22.900000   25.750000   12.900000\n",
       "75%    150.250000  218.825000   36.525000   45.100000   17.400000\n",
       "max    200.000000  296.400000   49.600000  114.000000   27.000000"
      ]
     },
     "execution_count": 8,
     "metadata": {},
     "output_type": "execute_result"
    }
   ],
   "source": [
    "df.describe()"
   ]
  },
  {
   "cell_type": "code",
   "execution_count": 9,
   "id": "7af6502a",
   "metadata": {
    "execution": {
     "iopub.execute_input": "2023-03-07T07:22:18.978080Z",
     "iopub.status.busy": "2023-03-07T07:22:18.977254Z",
     "iopub.status.idle": "2023-03-07T07:22:18.987034Z",
     "shell.execute_reply": "2023-03-07T07:22:18.985749Z"
    },
    "papermill": {
     "duration": 0.027607,
     "end_time": "2023-03-07T07:22:18.989487",
     "exception": false,
     "start_time": "2023-03-07T07:22:18.961880",
     "status": "completed"
    },
    "tags": []
   },
   "outputs": [
    {
     "data": {
      "text/plain": [
       "Unnamed: 0    0\n",
       "TV            0\n",
       "Radio         0\n",
       "Newspaper     0\n",
       "Sales         0\n",
       "dtype: int64"
      ]
     },
     "execution_count": 9,
     "metadata": {},
     "output_type": "execute_result"
    }
   ],
   "source": [
    "df.isnull().sum()"
   ]
  },
  {
   "cell_type": "code",
   "execution_count": 10,
   "id": "7dafc7da",
   "metadata": {
    "execution": {
     "iopub.execute_input": "2023-03-07T07:22:19.019011Z",
     "iopub.status.busy": "2023-03-07T07:22:19.018202Z",
     "iopub.status.idle": "2023-03-07T07:22:19.415060Z",
     "shell.execute_reply": "2023-03-07T07:22:19.413782Z"
    },
    "papermill": {
     "duration": 0.41478,
     "end_time": "2023-03-07T07:22:19.417873",
     "exception": false,
     "start_time": "2023-03-07T07:22:19.003093",
     "status": "completed"
    },
    "tags": []
   },
   "outputs": [
    {
     "data": {
      "image/png": "[encoded data removed]",
      "text/plain": [
       "<Figure size 500x500 with 3 Axes>"
      ]
     },
     "metadata": {},
     "output_type": "display_data"
    }
   ],
   "source": [
    "fig, axs = plt.subplots(3, figsize = (5,5))\n",
    "plt1=sns.boxplot(df['TV'],ax = axs[0])\n",
    "plt2=sns.boxplot(df['Newspaper'],ax = axs[1])\n",
    "plt3=sns.boxplot(df['Radio'],ax=axs[2])\n",
    "plt.tight_layout()"
   ]
  },
  {
   "cell_type": "code",
   "execution_count": 11,
   "id": "83b9da9b",
   "metadata": {
    "execution": {
     "iopub.execute_input": "2023-03-07T07:22:19.448140Z",
     "iopub.status.busy": "2023-03-07T07:22:19.447591Z",
     "iopub.status.idle": "2023-03-07T07:22:19.760744Z",
     "shell.execute_reply": "2023-03-07T07:22:19.759698Z"
    },
    "papermill": {
     "duration": 0.331698,
     "end_time": "2023-03-07T07:22:19.763517",
     "exception": false,
     "start_time": "2023-03-07T07:22:19.431819",
     "status": "completed"
    },
    "tags": []
   },
   "outputs": [
    {
     "data": {
      "text/plain": [
       "<AxesSubplot:xlabel='Newspaper', ylabel='Density'>"
      ]
     },
     "execution_count": 11,
     "metadata": {},
     "output_type": "execute_result"
    },
    {
     "data": {
      "image/png": "[encoded data removed]",
      "text/plain": [
       "<Figure size 640x480 with 1 Axes>"
      ]
     },
     "metadata": {},
     "output_type": "display_data"
    }
   ],
   "source": [
    "sns.distplot(df['Newspaper'])"
   ]
  },
  {
   "cell_type": "code",
   "execution_count": 12,
   "id": "03a52477",
   "metadata": {
    "execution": {
     "iopub.execute_input": "2023-03-07T07:22:19.794757Z",
     "iopub.status.busy": "2023-03-07T07:22:19.794055Z",
     "iopub.status.idle": "2023-03-07T07:22:19.803561Z",
     "shell.execute_reply": "2023-03-07T07:22:19.802265Z"
    },
    "papermill": {
     "duration": 0.028243,
     "end_time": "2023-03-07T07:22:19.806356",
     "exception": false,
     "start_time": "2023-03-07T07:22:19.778113",
     "status": "completed"
    },
    "tags": []
   },
   "outputs": [],
   "source": [
    "iqr = df.Newspaper.quantile(0.75) - df.Newspaper.quantile(0.25)"
   ]
  },
  {
   "cell_type": "code",
   "execution_count": 13,
   "id": "a20c924f",
   "metadata": {
    "execution": {
     "iopub.execute_input": "2023-03-07T07:22:19.838822Z",
     "iopub.status.busy": "2023-03-07T07:22:19.838375Z",
     "iopub.status.idle": "2023-03-07T07:22:19.848029Z",
     "shell.execute_reply": "2023-03-07T07:22:19.847130Z"
    },
    "papermill": {
     "duration": 0.028587,
     "end_time": "2023-03-07T07:22:19.850424",
     "exception": false,
     "start_time": "2023-03-07T07:22:19.821837",
     "status": "completed"
    },
    "tags": []
   },
   "outputs": [
    {
     "name": "stdout",
     "output_type": "stream",
     "text": [
      "-35.775000000000006\n",
      "93.625\n"
     ]
    }
   ],
   "source": [
    "lower_bridge=df[\"Newspaper\"].quantile(0.25)-(iqr*1.5)\n",
    "upper_bridge=df[\"Newspaper\"].quantile(0.75)+(iqr*1.5)\n",
    "print(lower_bridge)\n",
    "print(upper_bridge)"
   ]
  },
  {
   "cell_type": "code",
   "execution_count": 14,
   "id": "ebf5074c",
   "metadata": {
    "execution": {
     "iopub.execute_input": "2023-03-07T07:22:19.883699Z",
     "iopub.status.busy": "2023-03-07T07:22:19.883054Z",
     "iopub.status.idle": "2023-03-07T07:22:19.888181Z",
     "shell.execute_reply": "2023-03-07T07:22:19.887254Z"
    },
    "papermill": {
     "duration": 0.023653,
     "end_time": "2023-03-07T07:22:19.890454",
     "exception": false,
     "start_time": "2023-03-07T07:22:19.866801",
     "status": "completed"
    },
    "tags": []
   },
   "outputs": [],
   "source": [
    "data=df.copy()"
   ]
  },
  {
   "cell_type": "code",
   "execution_count": 15,
   "id": "cb572d54",
   "metadata": {
    "execution": {
     "iopub.execute_input": "2023-03-07T07:22:19.922180Z",
     "iopub.status.busy": "2023-03-07T07:22:19.921438Z",
     "iopub.status.idle": "2023-03-07T07:22:19.927851Z",
     "shell.execute_reply": "2023-03-07T07:22:19.926907Z"
    },
    "papermill": {
     "duration": 0.024931,
     "end_time": "2023-03-07T07:22:19.929938",
     "exception": false,
     "start_time": "2023-03-07T07:22:19.905007",
     "status": "completed"
    },
    "tags": []
   },
   "outputs": [],
   "source": [
    "data.loc[data['Newspaper']>=93,'Newspaper']=93"
   ]
  },
  {
   "cell_type": "code",
   "execution_count": 16,
   "id": "a1c94c4d",
   "metadata": {
    "execution": {
     "iopub.execute_input": "2023-03-07T07:22:19.961793Z",
     "iopub.status.busy": "2023-03-07T07:22:19.960870Z",
     "iopub.status.idle": "2023-03-07T07:22:20.151373Z",
     "shell.execute_reply": "2023-03-07T07:22:20.149995Z"
    },
    "papermill": {
     "duration": 0.209679,
     "end_time": "2023-03-07T07:22:20.154335",
     "exception": false,
     "start_time": "2023-03-07T07:22:19.944656",
     "status": "completed"
    },
    "tags": []
   },
   "outputs": [
    {
     "data": {
      "text/plain": [
       "<AxesSubplot:>"
      ]
     },
     "execution_count": 16,
     "metadata": {},
     "output_type": "execute_result"
    },
    {
     "data": {
      "image/png": "[encoded data removed]",
      "text/plain": [
       "<Figure size 640x480 with 1 Axes>"
      ]
     },
     "metadata": {},
     "output_type": "display_data"
    }
   ],
   "source": [
    "sns.boxplot(data['Newspaper'])"
   ]
  },
  {
   "cell_type": "code",
   "execution_count": 17,
   "id": "9a6f4ecf",
   "metadata": {
    "execution": {
     "iopub.execute_input": "2023-03-07T07:22:20.187190Z",
     "iopub.status.busy": "2023-03-07T07:22:20.186441Z",
     "iopub.status.idle": "2023-03-07T07:22:20.376616Z",
     "shell.execute_reply": "2023-03-07T07:22:20.375183Z"
    },
    "papermill": {
     "duration": 0.209618,
     "end_time": "2023-03-07T07:22:20.379478",
     "exception": false,
     "start_time": "2023-03-07T07:22:20.169860",
     "status": "completed"
    },
    "tags": []
   },
   "outputs": [
    {
     "data": {
      "text/plain": [
       "<AxesSubplot:>"
      ]
     },
     "execution_count": 17,
     "metadata": {},
     "output_type": "execute_result"
    },
    {
     "data": {
      "image/png": "[encoded data removed]",
      "text/plain": [
       "<Figure size 640x480 with 1 Axes>"
      ]
     },
     "metadata": {},
     "output_type": "display_data"
    }
   ],
   "source": [
    "sns.boxplot(data['Sales'])"
   ]
  },
  {
   "cell_type": "code",
   "execution_count": 18,
   "id": "ddd8abf4",
   "metadata": {
    "execution": {
     "iopub.execute_input": "2023-03-07T07:22:20.413564Z",
     "iopub.status.busy": "2023-03-07T07:22:20.412262Z",
     "iopub.status.idle": "2023-03-07T07:22:21.039940Z",
     "shell.execute_reply": "2023-03-07T07:22:21.038508Z"
    },
    "papermill": {
     "duration": 0.647243,
     "end_time": "2023-03-07T07:22:21.042767",
     "exception": false,
     "start_time": "2023-03-07T07:22:20.395524",
     "status": "completed"
    },
    "tags": []
   },
   "outputs": [
    {
     "data": {
      "image/png": "[encoded data removed]",
      "text/plain": [
       "<Figure size 1200x400 with 3 Axes>"
      ]
     },
     "metadata": {},
     "output_type": "display_data"
    }
   ],
   "source": [
    "sns.pairplot(data,x_vars=['TV','Newspaper','Radio'],\n",
    "             y_vars='Sales',height=4,aspect=1,kind='scatter')\n",
    "plt.show()"
   ]
  },
  {
   "cell_type": "code",
   "execution_count": 19,
   "id": "7c33f21a",
   "metadata": {
    "execution": {
     "iopub.execute_input": "2023-03-07T07:22:21.078472Z",
     "iopub.status.busy": "2023-03-07T07:22:21.078043Z",
     "iopub.status.idle": "2023-03-07T07:22:21.404133Z",
     "shell.execute_reply": "2023-03-07T07:22:21.402877Z"
    },
    "papermill": {
     "duration": 0.347111,
     "end_time": "2023-03-07T07:22:21.406970",
     "exception": false,
     "start_time": "2023-03-07T07:22:21.059859",
     "status": "completed"
    },
    "tags": []
   },
   "outputs": [
    {
     "data": {
      "image/png": "[encoded data removed]",
      "text/plain": [
       "<Figure size 640x480 with 2 Axes>"
      ]
     },
     "metadata": {},
     "output_type": "display_data"
    }
   ],
   "source": [
    "sns.heatmap(data.corr(),cmap=\"YlGnBu\",annot=True)\n",
    "plt.show()"
   ]
  },
  {
   "cell_type": "code",
   "execution_count": 20,
   "id": "d356cda2",
   "metadata": {
    "execution": {
     "iopub.execute_input": "2023-03-07T07:22:21.443641Z",
     "iopub.status.busy": "2023-03-07T07:22:21.442447Z",
     "iopub.status.idle": "2023-03-07T07:22:21.452240Z",
     "shell.execute_reply": "2023-03-07T07:22:21.450620Z"
    },
    "papermill": {
     "duration": 0.03141,
     "end_time": "2023-03-07T07:22:21.455372",
     "exception": false,
     "start_time": "2023-03-07T07:22:21.423962",
     "status": "completed"
    },
    "tags": []
   },
   "outputs": [],
   "source": [
    "important_features=list(df.corr()['Sales'][(df.corr()['Sales']>+0.5)|(df.corr()['Sales']<-0.5)].index)"
   ]
  },
  {
   "cell_type": "code",
   "execution_count": 21,
   "id": "7f06c840",
   "metadata": {
    "execution": {
     "iopub.execute_input": "2023-03-07T07:22:21.490859Z",
     "iopub.status.busy": "2023-03-07T07:22:21.490330Z",
     "iopub.status.idle": "2023-03-07T07:22:21.495404Z",
     "shell.execute_reply": "2023-03-07T07:22:21.494543Z"
    },
    "papermill": {
     "duration": 0.028814,
     "end_time": "2023-03-07T07:22:21.500909",
     "exception": false,
     "start_time": "2023-03-07T07:22:21.472095",
     "status": "completed"
    },
    "tags": []
   },
   "outputs": [
    {
     "name": "stdout",
     "output_type": "stream",
     "text": [
      "['TV', 'Radio', 'Sales']\n"
     ]
    }
   ],
   "source": [
    "print(important_features)"
   ]
  },
  {
   "cell_type": "code",
   "execution_count": 22,
   "id": "e84c2a19",
   "metadata": {
    "execution": {
     "iopub.execute_input": "2023-03-07T07:22:21.538388Z",
     "iopub.status.busy": "2023-03-07T07:22:21.537996Z",
     "iopub.status.idle": "2023-03-07T07:22:21.543449Z",
     "shell.execute_reply": "2023-03-07T07:22:21.542050Z"
    },
    "papermill": {
     "duration": 0.026602,
     "end_time": "2023-03-07T07:22:21.546291",
     "exception": false,
     "start_time": "2023-03-07T07:22:21.519689",
     "status": "completed"
    },
    "tags": []
   },
   "outputs": [],
   "source": [
    "x=data['TV']\n",
    "y=data['Sales']"
   ]
  },
  {
   "cell_type": "code",
   "execution_count": 23,
   "id": "56d0b190",
   "metadata": {
    "execution": {
     "iopub.execute_input": "2023-03-07T07:22:21.582545Z",
     "iopub.status.busy": "2023-03-07T07:22:21.581698Z",
     "iopub.status.idle": "2023-03-07T07:22:21.587126Z",
     "shell.execute_reply": "2023-03-07T07:22:21.586294Z"
    },
    "papermill": {
     "duration": 0.026188,
     "end_time": "2023-03-07T07:22:21.589484",
     "exception": false,
     "start_time": "2023-03-07T07:22:21.563296",
     "status": "completed"
    },
    "tags": []
   },
   "outputs": [],
   "source": [
    "x = x.values.reshape(-1,1)"
   ]
  },
  {
   "cell_type": "code",
   "execution_count": 24,
   "id": "73bf6ab4",
   "metadata": {
    "execution": {
     "iopub.execute_input": "2023-03-07T07:22:21.626541Z",
     "iopub.status.busy": "2023-03-07T07:22:21.625675Z",
     "iopub.status.idle": "2023-03-07T07:22:21.636482Z",
     "shell.execute_reply": "2023-03-07T07:22:21.635320Z"
    },
    "papermill": {
     "duration": 0.032701,
     "end_time": "2023-03-07T07:22:21.638885",
     "exception": false,
     "start_time": "2023-03-07T07:22:21.606184",
     "status": "completed"
    },
    "tags": []
   },
   "outputs": [
    {
     "data": {
      "text/plain": [
       "array([[230.1],\n",
       "       [ 44.5],\n",
       "       [ 17.2],\n",
       "       [151.5],\n",
       "       [180.8],\n",
       "       [  8.7],\n",
       "       [ 57.5],\n",
       "       [120.2],\n",
       "       [  8.6],\n",
       "       [199.8],\n",
       "       [ 66.1],\n",
       "       [214.7],\n",
       "       [ 23.8],\n",
       "       [ 97.5],\n",
       "       [204.1],\n",
       "       [195.4],\n",
       "       [ 67.8],\n",
       "       [281.4],\n",
       "       [ 69.2],\n",
       "       [147.3],\n",
       "       [218.4],\n",
       "       [237.4],\n",
       "       [ 13.2],\n",
       "       [228.3],\n",
       "       [ 62.3],\n",
       "       [262.9],\n",
       "       [142.9],\n",
       "       [240.1],\n",
       "       [248.8],\n",
       "       [ 70.6],\n",
       "       [292.9],\n",
       "       [112.9],\n",
       "       [ 97.2],\n",
       "       [265.6],\n",
       "       [ 95.7],\n",
       "       [290.7],\n",
       "       [266.9],\n",
       "       [ 74.7],\n",
       "       [ 43.1],\n",
       "       [228. ],\n",
       "       [202.5],\n",
       "       [177. ],\n",
       "       [293.6],\n",
       "       [206.9],\n",
       "       [ 25.1],\n",
       "       [175.1],\n",
       "       [ 89.7],\n",
       "       [239.9],\n",
       "       [227.2],\n",
       "       [ 66.9],\n",
       "       [199.8],\n",
       "       [100.4],\n",
       "       [216.4],\n",
       "       [182.6],\n",
       "       [262.7],\n",
       "       [198.9],\n",
       "       [  7.3],\n",
       "       [136.2],\n",
       "       [210.8],\n",
       "       [210.7],\n",
       "       [ 53.5],\n",
       "       [261.3],\n",
       "       [239.3],\n",
       "       [102.7],\n",
       "       [131.1],\n",
       "       [ 69. ],\n",
       "       [ 31.5],\n",
       "       [139.3],\n",
       "       [237.4],\n",
       "       [216.8],\n",
       "       [199.1],\n",
       "       [109.8],\n",
       "       [ 26.8],\n",
       "       [129.4],\n",
       "       [213.4],\n",
       "       [ 16.9],\n",
       "       [ 27.5],\n",
       "       [120.5],\n",
       "       [  5.4],\n",
       "       [116. ],\n",
       "       [ 76.4],\n",
       "       [239.8],\n",
       "       [ 75.3],\n",
       "       [ 68.4],\n",
       "       [213.5],\n",
       "       [193.2],\n",
       "       [ 76.3],\n",
       "       [110.7],\n",
       "       [ 88.3],\n",
       "       [109.8],\n",
       "       [134.3],\n",
       "       [ 28.6],\n",
       "       [217.7],\n",
       "       [250.9],\n",
       "       [107.4],\n",
       "       [163.3],\n",
       "       [197.6],\n",
       "       [184.9],\n",
       "       [289.7],\n",
       "       [135.2],\n",
       "       [222.4],\n",
       "       [296.4],\n",
       "       [280.2],\n",
       "       [187.9],\n",
       "       [238.2],\n",
       "       [137.9],\n",
       "       [ 25. ],\n",
       "       [ 90.4],\n",
       "       [ 13.1],\n",
       "       [255.4],\n",
       "       [225.8],\n",
       "       [241.7],\n",
       "       [175.7],\n",
       "       [209.6],\n",
       "       [ 78.2],\n",
       "       [ 75.1],\n",
       "       [139.2],\n",
       "       [ 76.4],\n",
       "       [125.7],\n",
       "       [ 19.4],\n",
       "       [141.3],\n",
       "       [ 18.8],\n",
       "       [224. ],\n",
       "       [123.1],\n",
       "       [229.5],\n",
       "       [ 87.2],\n",
       "       [  7.8],\n",
       "       [ 80.2],\n",
       "       [220.3],\n",
       "       [ 59.6],\n",
       "       [  0.7],\n",
       "       [265.2],\n",
       "       [  8.4],\n",
       "       [219.8],\n",
       "       [ 36.9],\n",
       "       [ 48.3],\n",
       "       [ 25.6],\n",
       "       [273.7],\n",
       "       [ 43. ],\n",
       "       [184.9],\n",
       "       [ 73.4],\n",
       "       [193.7],\n",
       "       [220.5],\n",
       "       [104.6],\n",
       "       [ 96.2],\n",
       "       [140.3],\n",
       "       [240.1],\n",
       "       [243.2],\n",
       "       [ 38. ],\n",
       "       [ 44.7],\n",
       "       [280.7],\n",
       "       [121. ],\n",
       "       [197.6],\n",
       "       [171.3],\n",
       "       [187.8],\n",
       "       [  4.1],\n",
       "       [ 93.9],\n",
       "       [149.8],\n",
       "       [ 11.7],\n",
       "       [131.7],\n",
       "       [172.5],\n",
       "       [ 85.7],\n",
       "       [188.4],\n",
       "       [163.5],\n",
       "       [117.2],\n",
       "       [234.5],\n",
       "       [ 17.9],\n",
       "       [206.8],\n",
       "       [215.4],\n",
       "       [284.3],\n",
       "       [ 50. ],\n",
       "       [164.5],\n",
       "       [ 19.6],\n",
       "       [168.4],\n",
       "       [222.4],\n",
       "       [276.9],\n",
       "       [248.4],\n",
       "       [170.2],\n",
       "       [276.7],\n",
       "       [165.6],\n",
       "       [156.6],\n",
       "       [218.5],\n",
       "       [ 56.2],\n",
       "       [287.6],\n",
       "       [253.8],\n",
       "       [205. ],\n",
       "       [139.5],\n",
       "       [191.1],\n",
       "       [286. ],\n",
       "       [ 18.7],\n",
       "       [ 39.5],\n",
       "       [ 75.5],\n",
       "       [ 17.2],\n",
       "       [166.8],\n",
       "       [149.7],\n",
       "       [ 38.2],\n",
       "       [ 94.2],\n",
       "       [177. ],\n",
       "       [283.6],\n",
       "       [232.1]])"
      ]
     },
     "execution_count": 24,
     "metadata": {},
     "output_type": "execute_result"
    }
   ],
   "source": [
    "x"
   ]
  },
  {
   "cell_type": "code",
   "execution_count": 25,
   "id": "6e188e6f",
   "metadata": {
    "execution": {
     "iopub.execute_input": "2023-03-07T07:22:21.675570Z",
     "iopub.status.busy": "2023-03-07T07:22:21.674783Z",
     "iopub.status.idle": "2023-03-07T07:22:21.683297Z",
     "shell.execute_reply": "2023-03-07T07:22:21.682254Z"
    },
    "papermill": {
     "duration": 0.029873,
     "end_time": "2023-03-07T07:22:21.685755",
     "exception": false,
     "start_time": "2023-03-07T07:22:21.655882",
     "status": "completed"
    },
    "tags": []
   },
   "outputs": [
    {
     "data": {
      "text/plain": [
       "0      22.1\n",
       "1      10.4\n",
       "2       9.3\n",
       "3      18.5\n",
       "4      12.9\n",
       "       ... \n",
       "195     7.6\n",
       "196     9.7\n",
       "197    12.8\n",
       "198    25.5\n",
       "199    13.4\n",
       "Name: Sales, Length: 200, dtype: float64"
      ]
     },
     "execution_count": 25,
     "metadata": {},
     "output_type": "execute_result"
    }
   ],
   "source": [
    "y"
   ]
  },
  {
   "cell_type": "code",
   "execution_count": 26,
   "id": "219bc744",
   "metadata": {
    "execution": {
     "iopub.execute_input": "2023-03-07T07:22:21.721792Z",
     "iopub.status.busy": "2023-03-07T07:22:21.721376Z",
     "iopub.status.idle": "2023-03-07T07:22:21.727325Z",
     "shell.execute_reply": "2023-03-07T07:22:21.725976Z"
    },
    "papermill": {
     "duration": 0.026688,
     "end_time": "2023-03-07T07:22:21.729633",
     "exception": false,
     "start_time": "2023-03-07T07:22:21.702945",
     "status": "completed"
    },
    "tags": []
   },
   "outputs": [
    {
     "name": "stdout",
     "output_type": "stream",
     "text": [
      "(200, 1) (200,)\n"
     ]
    }
   ],
   "source": [
    "print(x.shape,y.shape)"
   ]
  },
  {
   "cell_type": "code",
   "execution_count": 27,
   "id": "e016cc8a",
   "metadata": {
    "execution": {
     "iopub.execute_input": "2023-03-07T07:22:21.766101Z",
     "iopub.status.busy": "2023-03-07T07:22:21.765270Z",
     "iopub.status.idle": "2023-03-07T07:22:22.034413Z",
     "shell.execute_reply": "2023-03-07T07:22:22.033103Z"
    },
    "papermill": {
     "duration": 0.290783,
     "end_time": "2023-03-07T07:22:22.037453",
     "exception": false,
     "start_time": "2023-03-07T07:22:21.746670",
     "status": "completed"
    },
    "tags": []
   },
   "outputs": [],
   "source": [
    "from sklearn.model_selection import train_test_split\n",
    "x_train,x_test,y_train,y_test=train_test_split(x,y, test_size=0.33)"
   ]
  },
  {
   "cell_type": "code",
   "execution_count": 28,
   "id": "c783fe1c",
   "metadata": {
    "execution": {
     "iopub.execute_input": "2023-03-07T07:22:22.074372Z",
     "iopub.status.busy": "2023-03-07T07:22:22.073959Z",
     "iopub.status.idle": "2023-03-07T07:22:22.079982Z",
     "shell.execute_reply": "2023-03-07T07:22:22.078572Z"
    },
    "papermill": {
     "duration": 0.028609,
     "end_time": "2023-03-07T07:22:22.083654",
     "exception": false,
     "start_time": "2023-03-07T07:22:22.055045",
     "status": "completed"
    },
    "tags": []
   },
   "outputs": [
    {
     "name": "stdout",
     "output_type": "stream",
     "text": [
      "(134, 1) (134,)\n"
     ]
    }
   ],
   "source": [
    "print(x_train.shape,y_train.shape)"
   ]
  },
  {
   "cell_type": "code",
   "execution_count": 29,
   "id": "a465ff69",
   "metadata": {
    "execution": {
     "iopub.execute_input": "2023-03-07T07:22:22.123090Z",
     "iopub.status.busy": "2023-03-07T07:22:22.122125Z",
     "iopub.status.idle": "2023-03-07T07:22:22.549461Z",
     "shell.execute_reply": "2023-03-07T07:22:22.547774Z"
    },
    "papermill": {
     "duration": 0.449744,
     "end_time": "2023-03-07T07:22:22.552640",
     "exception": false,
     "start_time": "2023-03-07T07:22:22.102896",
     "status": "completed"
    },
    "tags": []
   },
   "outputs": [],
   "source": [
    "from sklearn.metrics import mean_squared_error,r2_score\n",
    "from sklearn.model_selection import cross_val_score,GridSearchCV\n",
    "from sklearn.neighbors import KNeighborsRegressor \n",
    "from sklearn.svm import SVR\n",
    "from sklearn.tree import DecisionTreeRegressor\n",
    "from sklearn.ensemble import RandomForestRegressor"
   ]
  },
  {
   "cell_type": "code",
   "execution_count": 30,
   "id": "9cd95c51",
   "metadata": {
    "execution": {
     "iopub.execute_input": "2023-03-07T07:22:22.589967Z",
     "iopub.status.busy": "2023-03-07T07:22:22.589573Z",
     "iopub.status.idle": "2023-03-07T07:22:22.602897Z",
     "shell.execute_reply": "2023-03-07T07:22:22.601698Z"
    },
    "papermill": {
     "duration": 0.034587,
     "end_time": "2023-03-07T07:22:22.605272",
     "exception": false,
     "start_time": "2023-03-07T07:22:22.570685",
     "status": "completed"
    },
    "tags": []
   },
   "outputs": [
    {
     "data": {
      "text/plain": [
       "KNeighborsRegressor()"
      ]
     },
     "execution_count": 30,
     "metadata": {},
     "output_type": "execute_result"
    }
   ],
   "source": [
    "knn=KNeighborsRegressor().fit(x_train,y_train)\n",
    "knn"
   ]
  },
  {
   "cell_type": "code",
   "execution_count": 31,
   "id": "973eb696",
   "metadata": {
    "execution": {
     "iopub.execute_input": "2023-03-07T07:22:22.642199Z",
     "iopub.status.busy": "2023-03-07T07:22:22.641548Z",
     "iopub.status.idle": "2023-03-07T07:22:22.649016Z",
     "shell.execute_reply": "2023-03-07T07:22:22.647968Z"
    },
    "papermill": {
     "duration": 0.028751,
     "end_time": "2023-03-07T07:22:22.651399",
     "exception": false,
     "start_time": "2023-03-07T07:22:22.622648",
     "status": "completed"
    },
    "tags": []
   },
   "outputs": [],
   "source": [
    "knn_train_pred=knn.predict(x_train)"
   ]
  },
  {
   "cell_type": "code",
   "execution_count": 32,
   "id": "ff5121d3",
   "metadata": {
    "execution": {
     "iopub.execute_input": "2023-03-07T07:22:22.688780Z",
     "iopub.status.busy": "2023-03-07T07:22:22.688038Z",
     "iopub.status.idle": "2023-03-07T07:22:22.694309Z",
     "shell.execute_reply": "2023-03-07T07:22:22.693366Z"
    },
    "papermill": {
     "duration": 0.027771,
     "end_time": "2023-03-07T07:22:22.696858",
     "exception": false,
     "start_time": "2023-03-07T07:22:22.669087",
     "status": "completed"
    },
    "tags": []
   },
   "outputs": [],
   "source": [
    "knn_test_pred=knn.predict(x_test)"
   ]
  },
  {
   "cell_type": "code",
   "execution_count": 33,
   "id": "b4171222",
   "metadata": {
    "execution": {
     "iopub.execute_input": "2023-03-07T07:22:22.733747Z",
     "iopub.status.busy": "2023-03-07T07:22:22.733027Z",
     "iopub.status.idle": "2023-03-07T07:22:22.742029Z",
     "shell.execute_reply": "2023-03-07T07:22:22.740001Z"
    },
    "papermill": {
     "duration": 0.030576,
     "end_time": "2023-03-07T07:22:22.744825",
     "exception": false,
     "start_time": "2023-03-07T07:22:22.714249",
     "status": "completed"
    },
    "tags": []
   },
   "outputs": [
    {
     "name": "stdout",
     "output_type": "stream",
     "text": [
      "[ 7.72 17.24 16.38 11.04 19.22 14.36 11.04  7.18 20.3  13.24 19.22 11.14\n",
      " 15.7  19.48 12.74 15.76 14.6  11.04  7.7  19.36 19.16 13.52 10.76  8.08\n",
      " 19.36 15.1  13.34 19.4  12.36  6.28 16.34 12.58 20.96 12.82 14.34 15.92\n",
      " 15.1  19.36 17.34 12.58 19.9  18.92 15.84  7.18 19.36 11.14 17.24 14.42\n",
      " 18.54 15.24 15.92 13.52 16.38 11.04  9.72 15.7  17.46 19.4  17.24  4.76\n",
      "  5.88 12.6  15.1  18.92 14.12  6.3  21.44 16.32 13.52 19.   20.1  19.36\n",
      " 20.22 19.22 18.14  7.18  7.36 11.14 19.36 18.44 11.14 16.52 15.1  13.24\n",
      " 18.54 14.66  8.08 16.34  9.78  7.18  9.78 10.76  9.66  5.88 12.6  19.22\n",
      " 17.02 10.76 17.24 11.04 18.14  7.72 11.14  7.38  5.88 17.24 10.82 13.56\n",
      " 15.84 15.76 10.76  8.8  17.52 18.9   7.72 16.34 20.1  20.1  16.44 11.44\n",
      "  9.78  6.28 13.56  9.78  8.08 12.36 15.76 13.52 13.24 14.36 10.76 13.52\n",
      " 19.36 19.36] [15.24 16.32  9.78 11.14  4.76 15.7  15.84  7.36 19.36 11.04 13.24  9.3\n",
      " 11.44  8.08 15.84 19.   13.24 11.14  9.3  19.94 16.52 14.42 15.84 12.58\n",
      " 14.12 14.42 15.   12.36  9.28 19.22 17.24 18.22  7.56 18.94 19.22 20.96\n",
      " 11.04 16.52 16.34 19.36 15.84 20.96 13.68 10.82  9.3  10.76 16.32 17.84\n",
      " 10.76 19.9  14.6  19.9  13.6   5.88 13.26 19.48  9.78 19.22 10.54  9.78\n",
      " 12.36 19.94 18.22 14.42  7.7  11.04]\n"
     ]
    }
   ],
   "source": [
    "print(knn_train_pred,knn_test_pred)"
   ]
  },
  {
   "cell_type": "code",
   "execution_count": 34,
   "id": "d44468e1",
   "metadata": {
    "execution": {
     "iopub.execute_input": "2023-03-07T07:22:22.781349Z",
     "iopub.status.busy": "2023-03-07T07:22:22.780931Z",
     "iopub.status.idle": "2023-03-07T07:22:22.788699Z",
     "shell.execute_reply": "2023-03-07T07:22:22.787286Z"
    },
    "papermill": {
     "duration": 0.02889,
     "end_time": "2023-03-07T07:22:22.791099",
     "exception": false,
     "start_time": "2023-03-07T07:22:22.762209",
     "status": "completed"
    },
    "tags": []
   },
   "outputs": [],
   "source": [
    "Results=pd.DataFrame(columns=[\"Model\",\"Train R2\",\"Test R2\",\"Test RMSE\",\"Variance\"])"
   ]
  },
  {
   "cell_type": "code",
   "execution_count": 35,
   "id": "eafa4fb3",
   "metadata": {
    "execution": {
     "iopub.execute_input": "2023-03-07T07:22:22.828713Z",
     "iopub.status.busy": "2023-03-07T07:22:22.827855Z",
     "iopub.status.idle": "2023-03-07T07:22:22.843919Z",
     "shell.execute_reply": "2023-03-07T07:22:22.842425Z"
    },
    "papermill": {
     "duration": 0.03833,
     "end_time": "2023-03-07T07:22:22.846743",
     "exception": false,
     "start_time": "2023-03-07T07:22:22.808413",
     "status": "completed"
    },
    "tags": []
   },
   "outputs": [
    {
     "name": "stdout",
     "output_type": "stream",
     "text": [
      "R2: 0.46960710805767036\n",
      "RMSE: 3.7624105747955436\n"
     ]
    }
   ],
   "source": [
    "r2=r2_score(y_test,knn_test_pred)\n",
    "r2_train=r2_score(y_train,knn_train_pred)\n",
    "rmse=np.sqrt(mean_squared_error(y_test,knn_test_pred))\n",
    "variance=r2_train-r2\n",
    "Results=Results.append({\"Model\":\"K-Nearest-Neighbors\",\"Train_R2\":r2_train,\"Test_R2\":r2,\"Test_RMSE\":rmse,\"Variance\":variance},ignore_index=True)\n",
    "print(\"R2:\",r2)\n",
    "print(\"RMSE:\",rmse)"
   ]
  },
  {
   "cell_type": "code",
   "execution_count": 36,
   "id": "b4964801",
   "metadata": {
    "execution": {
     "iopub.execute_input": "2023-03-07T07:22:22.885131Z",
     "iopub.status.busy": "2023-03-07T07:22:22.883943Z",
     "iopub.status.idle": "2023-03-07T07:22:22.899013Z",
     "shell.execute_reply": "2023-03-07T07:22:22.897629Z"
    },
    "papermill": {
     "duration": 0.036684,
     "end_time": "2023-03-07T07:22:22.901764",
     "exception": false,
     "start_time": "2023-03-07T07:22:22.865080",
     "status": "completed"
    },
    "tags": []
   },
   "outputs": [
    {
     "data": {
      "text/html": [
       "<div>\n",
       "<style scoped>\n",
       "    .dataframe tbody tr th:only-of-type {\n",
       "        vertical-align: middle;\n",
       "    }\n",
       "\n",
       "    .dataframe tbody tr th {\n",
       "        vertical-align: top;\n",
       "    }\n",
       "\n",
       "    .dataframe thead th {\n",
       "        text-align: right;\n",
       "    }\n",
       "</style>\n",
       "<table border=\"1\" class=\"dataframe\">\n",
       "  <thead>\n",
       "    <tr style=\"text-align: right;\">\n",
       "      <th></th>\n",
       "      <th>Model</th>\n",
       "      <th>Train R2</th>\n",
       "      <th>Test R2</th>\n",
       "      <th>Test RMSE</th>\n",
       "      <th>Variance</th>\n",
       "      <th>Test_R2</th>\n",
       "      <th>Test_RMSE</th>\n",
       "      <th>Train_R2</th>\n",
       "    </tr>\n",
       "  </thead>\n",
       "  <tbody>\n",
       "    <tr>\n",
       "      <th>0</th>\n",
       "      <td>K-Nearest-Neighbors</td>\n",
       "      <td>NaN</td>\n",
       "      <td>NaN</td>\n",
       "      <td>NaN</td>\n",
       "      <td>0.224397</td>\n",
       "      <td>0.469607</td>\n",
       "      <td>3.762411</td>\n",
       "      <td>0.694004</td>\n",
       "    </tr>\n",
       "  </tbody>\n",
       "</table>\n",
       "</div>"
      ],
      "text/plain": [
       "                 Model  Train R2  Test R2  Test RMSE  Variance   Test_R2  \\\n",
       "0  K-Nearest-Neighbors       NaN      NaN        NaN  0.224397  0.469607   \n",
       "\n",
       "   Test_RMSE  Train_R2  \n",
       "0   3.762411  0.694004  "
      ]
     },
     "execution_count": 36,
     "metadata": {},
     "output_type": "execute_result"
    }
   ],
   "source": [
    "Results.head()"
   ]
  },
  {
   "cell_type": "code",
   "execution_count": 37,
   "id": "5f7c144c",
   "metadata": {
    "execution": {
     "iopub.execute_input": "2023-03-07T07:22:22.940675Z",
     "iopub.status.busy": "2023-03-07T07:22:22.939268Z",
     "iopub.status.idle": "2023-03-07T07:22:22.952758Z",
     "shell.execute_reply": "2023-03-07T07:22:22.951422Z"
    },
    "papermill": {
     "duration": 0.035484,
     "end_time": "2023-03-07T07:22:22.955417",
     "exception": false,
     "start_time": "2023-03-07T07:22:22.919933",
     "status": "completed"
    },
    "tags": []
   },
   "outputs": [
    {
     "data": {
      "text/plain": [
       "SVR()"
      ]
     },
     "execution_count": 37,
     "metadata": {},
     "output_type": "execute_result"
    }
   ],
   "source": [
    "svr=SVR().fit(x_train,y_train)\n",
    "svr"
   ]
  },
  {
   "cell_type": "code",
   "execution_count": 38,
   "id": "34b2cd12",
   "metadata": {
    "execution": {
     "iopub.execute_input": "2023-03-07T07:22:22.994730Z",
     "iopub.status.busy": "2023-03-07T07:22:22.994287Z",
     "iopub.status.idle": "2023-03-07T07:22:23.001645Z",
     "shell.execute_reply": "2023-03-07T07:22:23.000391Z"
    },
    "papermill": {
     "duration": 0.030072,
     "end_time": "2023-03-07T07:22:23.004314",
     "exception": false,
     "start_time": "2023-03-07T07:22:22.974242",
     "status": "completed"
    },
    "tags": []
   },
   "outputs": [],
   "source": [
    "svr_train_pred=svr.predict(x_train)\n",
    "svr_test_pred=svr.predict(x_test)"
   ]
  },
  {
   "cell_type": "code",
   "execution_count": 39,
   "id": "77af52bc",
   "metadata": {
    "execution": {
     "iopub.execute_input": "2023-03-07T07:22:23.043984Z",
     "iopub.status.busy": "2023-03-07T07:22:23.043131Z",
     "iopub.status.idle": "2023-03-07T07:22:23.052336Z",
     "shell.execute_reply": "2023-03-07T07:22:23.050634Z"
    },
    "papermill": {
     "duration": 0.032228,
     "end_time": "2023-03-07T07:22:23.055243",
     "exception": false,
     "start_time": "2023-03-07T07:22:23.023015",
     "status": "completed"
    },
    "tags": []
   },
   "outputs": [
    {
     "name": "stdout",
     "output_type": "stream",
     "text": [
      "[ 7.51716587 17.08135832 17.60617522 10.76849317 17.74233803 13.46360208\n",
      " 10.78023273  7.59173125 17.28882409 13.67742116 17.74658378 10.40187769\n",
      " 16.01668635 17.26693003 12.73499584 15.1649401  15.65630134 10.82699701\n",
      "  7.81252806 17.33374588 17.20964014 12.48153475 11.78319199  7.83866286\n",
      " 17.02167441 14.01202846 11.3513553  17.16753526 11.43050976  7.29816733\n",
      " 16.60241814 12.78312836 17.74030441 13.54101178 13.12017646 17.44567396\n",
      " 14.12341463 16.46468043 17.68379151 12.90261619 17.59051449 17.37284552\n",
      " 14.93621956  7.5988632  16.57859742 10.25988819 17.06424197 15.39176096\n",
      " 16.4997805  15.86823434 17.44567396 12.5189328  17.61706534 10.83282049\n",
      "  9.19064647 16.04717816 16.8334048  17.16396571 17.04002585  7.20586743\n",
      "  7.28395759 17.52971281 14.11891827 17.3874125  13.33474232  7.36333073\n",
      " 17.7001     17.56051249 13.82099623 16.79471053 17.50165195 16.606714\n",
      " 17.23356967 17.73302914 16.31192265  7.57068516  7.40052657 10.35269316\n",
      " 17.06797571 17.27999852 10.21010429 17.72177422 14.20038017 13.66490727\n",
      " 16.4997805  13.266898    7.92437095 16.57004855  8.76593623  7.56722878\n",
      "  8.75994164 11.92619553  8.40643773  7.27562613 17.48683216 17.73479159\n",
      " 16.39465971 11.76863067 16.93671886 10.75673445 16.28736135  7.50755895\n",
      " 10.31565952  7.54011032  7.24785026 16.87408404  9.80010013 12.93433094\n",
      " 14.8210882  15.10866384 11.94024075  8.11852347 17.39316515 17.68182077\n",
      "  7.51716587 16.56074964 17.51066735 17.47132978 16.18319038 10.93678431\n",
      "  8.55395288  7.30001938 13.01741334  8.47955155  7.97596842 11.48774703\n",
      " 15.22655676 12.48153475 13.75301946 13.50017642 11.85528053 12.38057088\n",
      " 17.0641643  17.33066568] [15.86823434 17.58312268  9.58357608 10.48738486  7.23241354 16.02177431\n",
      " 14.77146629  7.39793379 16.73309249 10.73316001 13.71090972  8.85042324\n",
      " 11.05033274  7.89228191 15.017064   16.72454404 13.66907592 10.38960287\n",
      "  8.86257473 16.91315718 17.71497502 15.36070642 14.87598298 12.91451477\n",
      " 13.35877825 15.45913065 14.43726903 11.59512252  9.41179953 17.73479159\n",
      " 16.96207795 17.19670172  7.76164533 17.30881777 17.73362882 17.72587424\n",
      " 10.83282049 17.71497502 16.60241814 16.69400271 14.76157531 17.73848729\n",
      " 13.61094941  9.97137116  9.08430541 12.07372871 17.57709594 17.65027541\n",
      " 11.8790476  17.56356337 15.74954576 17.55955446 12.60941157  7.2945137\n",
      " 12.26022441 16.81385759  9.66640212 17.72984765 12.17680243  8.46821715\n",
      " 11.55960619 16.90902731 17.19033097 15.45913065  7.81685213 10.65602949]\n"
     ]
    }
   ],
   "source": [
    "print(svr_train_pred,svr_test_pred)"
   ]
  },
  {
   "cell_type": "code",
   "execution_count": 40,
   "id": "eb68de64",
   "metadata": {
    "execution": {
     "iopub.execute_input": "2023-03-07T07:22:23.094725Z",
     "iopub.status.busy": "2023-03-07T07:22:23.093477Z",
     "iopub.status.idle": "2023-03-07T07:22:23.108419Z",
     "shell.execute_reply": "2023-03-07T07:22:23.106853Z"
    },
    "papermill": {
     "duration": 0.037621,
     "end_time": "2023-03-07T07:22:23.111235",
     "exception": false,
     "start_time": "2023-03-07T07:22:23.073614",
     "status": "completed"
    },
    "tags": []
   },
   "outputs": [
    {
     "name": "stdout",
     "output_type": "stream",
     "text": [
      "R2: 0.49852970826306353\n",
      "RMSE: 3.658389513651138\n"
     ]
    }
   ],
   "source": [
    "r2=r2_score(y_test,svr_test_pred)\n",
    "r2_train=r2_score(y_train,svr_train_pred)\n",
    "rmse=np.sqrt(mean_squared_error(y_test,svr_test_pred))\n",
    "variance=r2_train-r2\n",
    "Results=Results.append({\"Model\":\"Support Vector Machine\",\"Train_R2\":r2_train,\"Test_R2\":r2,\"Test_RMSE\":rmse,\"Variance\":variance},ignore_index=True)\n",
    "print(\"R2:\",r2)\n",
    "print(\"RMSE:\",rmse)"
   ]
  },
  {
   "cell_type": "code",
   "execution_count": 41,
   "id": "3554fabb",
   "metadata": {
    "execution": {
     "iopub.execute_input": "2023-03-07T07:22:23.149643Z",
     "iopub.status.busy": "2023-03-07T07:22:23.149166Z",
     "iopub.status.idle": "2023-03-07T07:22:23.163302Z",
     "shell.execute_reply": "2023-03-07T07:22:23.162301Z"
    },
    "papermill": {
     "duration": 0.036576,
     "end_time": "2023-03-07T07:22:23.165916",
     "exception": false,
     "start_time": "2023-03-07T07:22:23.129340",
     "status": "completed"
    },
    "tags": []
   },
   "outputs": [
    {
     "data": {
      "text/html": [
       "<div>\n",
       "<style scoped>\n",
       "    .dataframe tbody tr th:only-of-type {\n",
       "        vertical-align: middle;\n",
       "    }\n",
       "\n",
       "    .dataframe tbody tr th {\n",
       "        vertical-align: top;\n",
       "    }\n",
       "\n",
       "    .dataframe thead th {\n",
       "        text-align: right;\n",
       "    }\n",
       "</style>\n",
       "<table border=\"1\" class=\"dataframe\">\n",
       "  <thead>\n",
       "    <tr style=\"text-align: right;\">\n",
       "      <th></th>\n",
       "      <th>Model</th>\n",
       "      <th>Train R2</th>\n",
       "      <th>Test R2</th>\n",
       "      <th>Test RMSE</th>\n",
       "      <th>Variance</th>\n",
       "      <th>Test_R2</th>\n",
       "      <th>Test_RMSE</th>\n",
       "      <th>Train_R2</th>\n",
       "    </tr>\n",
       "  </thead>\n",
       "  <tbody>\n",
       "    <tr>\n",
       "      <th>0</th>\n",
       "      <td>K-Nearest-Neighbors</td>\n",
       "      <td>NaN</td>\n",
       "      <td>NaN</td>\n",
       "      <td>NaN</td>\n",
       "      <td>0.224397</td>\n",
       "      <td>0.469607</td>\n",
       "      <td>3.762411</td>\n",
       "      <td>0.694004</td>\n",
       "    </tr>\n",
       "    <tr>\n",
       "      <th>1</th>\n",
       "      <td>Support Vector Machine</td>\n",
       "      <td>NaN</td>\n",
       "      <td>NaN</td>\n",
       "      <td>NaN</td>\n",
       "      <td>0.119799</td>\n",
       "      <td>0.498530</td>\n",
       "      <td>3.658390</td>\n",
       "      <td>0.618329</td>\n",
       "    </tr>\n",
       "  </tbody>\n",
       "</table>\n",
       "</div>"
      ],
      "text/plain": [
       "                    Model  Train R2  Test R2  Test RMSE  Variance   Test_R2  \\\n",
       "0     K-Nearest-Neighbors       NaN      NaN        NaN  0.224397  0.469607   \n",
       "1  Support Vector Machine       NaN      NaN        NaN  0.119799  0.498530   \n",
       "\n",
       "   Test_RMSE  Train_R2  \n",
       "0   3.762411  0.694004  \n",
       "1   3.658390  0.618329  "
      ]
     },
     "execution_count": 41,
     "metadata": {},
     "output_type": "execute_result"
    }
   ],
   "source": [
    "Results.head()"
   ]
  },
  {
   "cell_type": "code",
   "execution_count": 42,
   "id": "66cbf301",
   "metadata": {
    "execution": {
     "iopub.execute_input": "2023-03-07T07:22:23.205478Z",
     "iopub.status.busy": "2023-03-07T07:22:23.204474Z",
     "iopub.status.idle": "2023-03-07T07:22:24.967899Z",
     "shell.execute_reply": "2023-03-07T07:22:24.966588Z"
    },
    "papermill": {
     "duration": 1.786878,
     "end_time": "2023-03-07T07:22:24.971109",
     "exception": false,
     "start_time": "2023-03-07T07:22:23.184231",
     "status": "completed"
    },
    "tags": []
   },
   "outputs": [],
   "source": [
    "import statsmodels.api as sm"
   ]
  },
  {
   "cell_type": "code",
   "execution_count": 43,
   "id": "44e10680",
   "metadata": {
    "execution": {
     "iopub.execute_input": "2023-03-07T07:22:25.011277Z",
     "iopub.status.busy": "2023-03-07T07:22:25.010297Z",
     "iopub.status.idle": "2023-03-07T07:22:25.016200Z",
     "shell.execute_reply": "2023-03-07T07:22:25.014921Z"
    },
    "papermill": {
     "duration": 0.028536,
     "end_time": "2023-03-07T07:22:25.019089",
     "exception": false,
     "start_time": "2023-03-07T07:22:24.990553",
     "status": "completed"
    },
    "tags": []
   },
   "outputs": [],
   "source": [
    "x_train_constant=sm.add_constant(x_train)"
   ]
  },
  {
   "cell_type": "code",
   "execution_count": 44,
   "id": "7354055d",
   "metadata": {
    "execution": {
     "iopub.execute_input": "2023-03-07T07:22:25.059692Z",
     "iopub.status.busy": "2023-03-07T07:22:25.058845Z",
     "iopub.status.idle": "2023-03-07T07:22:25.069124Z",
     "shell.execute_reply": "2023-03-07T07:22:25.068164Z"
    },
    "papermill": {
     "duration": 0.033823,
     "end_time": "2023-03-07T07:22:25.071743",
     "exception": false,
     "start_time": "2023-03-07T07:22:25.037920",
     "status": "completed"
    },
    "tags": []
   },
   "outputs": [],
   "source": [
    "model=sm.OLS(y_train,x_train_constant).fit()"
   ]
  },
  {
   "cell_type": "code",
   "execution_count": 45,
   "id": "baa4dfee",
   "metadata": {
    "execution": {
     "iopub.execute_input": "2023-03-07T07:22:25.110450Z",
     "iopub.status.busy": "2023-03-07T07:22:25.110049Z",
     "iopub.status.idle": "2023-03-07T07:22:25.118748Z",
     "shell.execute_reply": "2023-03-07T07:22:25.117415Z"
    },
    "papermill": {
     "duration": 0.031102,
     "end_time": "2023-03-07T07:22:25.121245",
     "exception": false,
     "start_time": "2023-03-07T07:22:25.090143",
     "status": "completed"
    },
    "tags": []
   },
   "outputs": [
    {
     "data": {
      "text/plain": [
       "const    7.030091\n",
       "x1       0.048513\n",
       "dtype: float64"
      ]
     },
     "execution_count": 45,
     "metadata": {},
     "output_type": "execute_result"
    }
   ],
   "source": [
    "model.params"
   ]
  },
  {
   "cell_type": "code",
   "execution_count": 46,
   "id": "7ff5f656",
   "metadata": {
    "execution": {
     "iopub.execute_input": "2023-03-07T07:22:25.160341Z",
     "iopub.status.busy": "2023-03-07T07:22:25.159936Z",
     "iopub.status.idle": "2023-03-07T07:22:25.174212Z",
     "shell.execute_reply": "2023-03-07T07:22:25.173251Z"
    },
    "papermill": {
     "duration": 0.037134,
     "end_time": "2023-03-07T07:22:25.177193",
     "exception": false,
     "start_time": "2023-03-07T07:22:25.140059",
     "status": "completed"
    },
    "tags": []
   },
   "outputs": [
    {
     "name": "stdout",
     "output_type": "stream",
     "text": [
      "                            OLS Regression Results                            \n",
      "==============================================================================\n",
      "Dep. Variable:                  Sales   R-squared:                       0.638\n",
      "Model:                            OLS   Adj. R-squared:                  0.635\n",
      "Method:                 Least Squares   F-statistic:                     232.7\n",
      "Date:                Tue, 07 Mar 2023   Prob (F-statistic):           6.36e-31\n",
      "Time:                        07:22:25   Log-Likelihood:                -343.50\n",
      "No. Observations:                 134   AIC:                             691.0\n",
      "Df Residuals:                     132   BIC:                             696.8\n",
      "Df Model:                           1                                         \n",
      "Covariance Type:            nonrobust                                         \n",
      "==============================================================================\n",
      "                 coef    std err          t      P>|t|      [0.025      0.975]\n",
      "------------------------------------------------------------------------------\n",
      "const          7.0301      0.538     13.059      0.000       5.965       8.095\n",
      "x1             0.0485      0.003     15.256      0.000       0.042       0.055\n",
      "==============================================================================\n",
      "Omnibus:                        0.235   Durbin-Watson:                   2.062\n",
      "Prob(Omnibus):                  0.889   Jarque-Bera (JB):                0.402\n",
      "Skew:                          -0.046   Prob(JB):                        0.818\n",
      "Kurtosis:                       2.748   Cond. No.                         333.\n",
      "==============================================================================\n",
      "\n",
      "Notes:\n",
      "[1] Standard Errors assume that the covariance matrix of the errors is correctly specified.\n"
     ]
    }
   ],
   "source": [
    "print(model.summary())"
   ]
  },
  {
   "cell_type": "code",
   "execution_count": 47,
   "id": "9e3ccc4b",
   "metadata": {
    "execution": {
     "iopub.execute_input": "2023-03-07T07:22:25.217847Z",
     "iopub.status.busy": "2023-03-07T07:22:25.217430Z",
     "iopub.status.idle": "2023-03-07T07:22:25.434135Z",
     "shell.execute_reply": "2023-03-07T07:22:25.432963Z"
    },
    "papermill": {
     "duration": 0.239966,
     "end_time": "2023-03-07T07:22:25.436990",
     "exception": false,
     "start_time": "2023-03-07T07:22:25.197024",
     "status": "completed"
    },
    "tags": []
   },
   "outputs": [
    {
     "data": {
      "image/png": "[encoded data removed]",
      "text/plain": [
       "<Figure size 640x480 with 1 Axes>"
      ]
     },
     "metadata": {},
     "output_type": "display_data"
    }
   ],
   "source": [
    "plt.scatter(x_train,y_train)\n",
    "plt.plot(x_train,6.9955 + 0.0541 * x_train,'y')\n",
    "plt.show()"
   ]
  },
  {
   "cell_type": "code",
   "execution_count": 48,
   "id": "02a02c60",
   "metadata": {
    "execution": {
     "iopub.execute_input": "2023-03-07T07:22:25.478321Z",
     "iopub.status.busy": "2023-03-07T07:22:25.477932Z",
     "iopub.status.idle": "2023-03-07T07:22:25.487314Z",
     "shell.execute_reply": "2023-03-07T07:22:25.486154Z"
    },
    "papermill": {
     "duration": 0.033303,
     "end_time": "2023-03-07T07:22:25.490133",
     "exception": false,
     "start_time": "2023-03-07T07:22:25.456830",
     "status": "completed"
    },
    "tags": []
   },
   "outputs": [
    {
     "data": {
      "text/plain": [
       "192   -1.964508\n",
       "102   -5.823331\n",
       "124    1.536260\n",
       "82     0.616908\n",
       "111    3.044406\n",
       "         ...   \n",
       "99     3.611001\n",
       "34    -2.172750\n",
       "94    -0.740348\n",
       "59     1.148297\n",
       "20     0.374750\n",
       "Name: Sales, Length: 134, dtype: float64"
      ]
     },
     "execution_count": 48,
     "metadata": {},
     "output_type": "execute_result"
    }
   ],
   "source": [
    "y_train_pred=model.predict(x_train_constant)\n",
    "res = (y_train-y_train_pred)\n",
    "res\n"
   ]
  },
  {
   "cell_type": "code",
   "execution_count": 49,
   "id": "debdc381",
   "metadata": {
    "execution": {
     "iopub.execute_input": "2023-03-07T07:22:25.531177Z",
     "iopub.status.busy": "2023-03-07T07:22:25.529906Z",
     "iopub.status.idle": "2023-03-07T07:22:25.540403Z",
     "shell.execute_reply": "2023-03-07T07:22:25.539074Z"
    },
    "papermill": {
     "duration": 0.033777,
     "end_time": "2023-03-07T07:22:25.543102",
     "exception": false,
     "start_time": "2023-03-07T07:22:25.509325",
     "status": "completed"
    },
    "tags": []
   },
   "outputs": [
    {
     "data": {
      "text/plain": [
       "array([ 7.86450794, 20.62333072, 18.16374017, 10.68309198, 18.75559431,\n",
       "       13.5453374 , 10.69279451,  7.97123573, 20.3079986 , 13.7976031 ,\n",
       "       18.82836326, 10.38716491, 16.14076333, 17.52822466, 12.65755619,\n",
       "       15.34030486, 15.80117489, 10.73160462,  8.24290648, 17.63010119,\n",
       "       17.44575318, 12.35677786, 11.59998077,  8.27201406, 17.19833875,\n",
       "       14.17600164, 11.18762338, 17.38753802, 11.26039233,  7.44729928,\n",
       "       16.72291493, 12.71577135, 19.08062895, 13.6375114 , 13.12812874,\n",
       "       17.81930047, 14.29728323, 21.40923539, 18.40630334, 12.86130926,\n",
       "       19.70644194, 17.69316762, 15.12199801,  7.98093826, 21.27340002,\n",
       "       10.27558586, 20.64758704, 15.55376045, 16.61618714, 16.00007669,\n",
       "       17.81930047, 12.40043923, 18.19284775, 10.73645588,  9.45572234,\n",
       "       16.16987091, 16.97518063, 17.38268676, 20.68154588,  7.06404947,\n",
       "        7.40848918, 17.98424342, 14.29243196, 17.71742394, 13.39009697,\n",
       "        7.59768845, 19.34259718, 18.05216111, 13.96254605, 16.93151926,\n",
       "       19.91504626, 21.23944117, 17.47971203, 18.6634203 , 16.42698787,\n",
       "        7.94212815,  7.6704574 , 10.34835481, 17.25655391, 17.54762972,\n",
       "       10.23677575, 18.58580009, 14.37975471, 13.7830493 , 16.61618714,\n",
       "       13.30762549,  8.36418807, 16.68895609,  9.12098516,  7.93727689,\n",
       "        9.1161339 , 11.74551867,  8.82020683,  7.38423286, 17.89692068,\n",
       "       18.67797409, 16.50945934, 11.58542698, 20.82223252, 10.67338946,\n",
       "       16.40273155,  7.84995415, 10.31924723,  7.89846678,  7.29205885,\n",
       "       20.904704  ,  9.92144363, 12.90011936, 15.01041895, 15.28694096,\n",
       "       11.76007246,  8.55823861, 17.72712646, 19.42021739,  7.86450794,\n",
       "       16.67925356, 19.89564121, 19.97811269, 16.30085502, 10.82377862,\n",
       "        8.94633968,  7.45215055, 13.0019959 ,  8.88327326,  8.41755197,\n",
       "       11.31375623, 15.39852002, 12.35677786, 13.88492584, 13.58899877,\n",
       "       11.67274972, 12.24034754, 17.25170265, 17.62524993])"
      ]
     },
     "execution_count": 49,
     "metadata": {},
     "output_type": "execute_result"
    }
   ],
   "source": [
    "y_train_pred"
   ]
  },
  {
   "cell_type": "code",
   "execution_count": 50,
   "id": "4c3779eb",
   "metadata": {
    "execution": {
     "iopub.execute_input": "2023-03-07T07:22:25.583890Z",
     "iopub.status.busy": "2023-03-07T07:22:25.583056Z",
     "iopub.status.idle": "2023-03-07T07:22:25.842752Z",
     "shell.execute_reply": "2023-03-07T07:22:25.841178Z"
    },
    "papermill": {
     "duration": 0.282975,
     "end_time": "2023-03-07T07:22:25.845707",
     "exception": false,
     "start_time": "2023-03-07T07:22:25.562732",
     "status": "completed"
    },
    "tags": []
   },
   "outputs": [
    {
     "data": {
      "image/png": "[encoded data removed]",
      "text/plain": [
       "<Figure size 640x480 with 1 Axes>"
      ]
     },
     "metadata": {},
     "output_type": "display_data"
    }
   ],
   "source": [
    "fig = plt.figure()\n",
    "sns.distplot(res,bins = 15)\n",
    "fig.suptitle('Error Terms',fontsize = 15)\n",
    "plt.xlabel('Difference in y_train and y_train_pred',fontsize = 15)\n",
    "plt.show()"
   ]
  },
  {
   "cell_type": "code",
   "execution_count": 51,
   "id": "cca841ed",
   "metadata": {
    "execution": {
     "iopub.execute_input": "2023-03-07T07:22:25.888151Z",
     "iopub.status.busy": "2023-03-07T07:22:25.887196Z",
     "iopub.status.idle": "2023-03-07T07:22:26.105793Z",
     "shell.execute_reply": "2023-03-07T07:22:26.104309Z"
    },
    "papermill": {
     "duration": 0.242799,
     "end_time": "2023-03-07T07:22:26.108684",
     "exception": false,
     "start_time": "2023-03-07T07:22:25.865885",
     "status": "completed"
    },
    "tags": []
   },
   "outputs": [
    {
     "data": {
      "image/png": "[encoded data removed]",
      "text/plain": [
       "<Figure size 640x480 with 1 Axes>"
      ]
     },
     "metadata": {},
     "output_type": "display_data"
    }
   ],
   "source": [
    "plt.scatter(x_train,res)\n",
    "plt.show()"
   ]
  },
  {
   "cell_type": "code",
   "execution_count": 52,
   "id": "6ba48785",
   "metadata": {
    "execution": {
     "iopub.execute_input": "2023-03-07T07:22:26.151605Z",
     "iopub.status.busy": "2023-03-07T07:22:26.150829Z",
     "iopub.status.idle": "2023-03-07T07:22:26.155716Z",
     "shell.execute_reply": "2023-03-07T07:22:26.154870Z"
    },
    "papermill": {
     "duration": 0.029062,
     "end_time": "2023-03-07T07:22:26.158117",
     "exception": false,
     "start_time": "2023-03-07T07:22:26.129055",
     "status": "completed"
    },
    "tags": []
   },
   "outputs": [],
   "source": [
    "x_test_constant=sm.add_constant(x_test)\n",
    "y_pred=model.predict(x_test_constant)"
   ]
  },
  {
   "cell_type": "code",
   "execution_count": 53,
   "id": "a48d5850",
   "metadata": {
    "execution": {
     "iopub.execute_input": "2023-03-07T07:22:26.200890Z",
     "iopub.status.busy": "2023-03-07T07:22:26.200102Z",
     "iopub.status.idle": "2023-03-07T07:22:26.207302Z",
     "shell.execute_reply": "2023-03-07T07:22:26.206094Z"
    },
    "papermill": {
     "duration": 0.03137,
     "end_time": "2023-03-07T07:22:26.209843",
     "exception": false,
     "start_time": "2023-03-07T07:22:26.178473",
     "status": "completed"
    },
    "tags": []
   },
   "outputs": [
    {
     "data": {
      "text/plain": [
       "array([16.00007669, 18.10552501,  9.75650067, 10.4550826 ,  7.22899243,\n",
       "       16.14561459, 14.96190631,  7.66560614, 21.08420075, 10.6539844 ,\n",
       "       13.8364132 ,  9.18890285, 10.92080389,  8.33022923, 15.19961822,\n",
       "       16.85389905, 13.78790057, 10.37746239,  9.19860538, 17.06735464,\n",
       "       18.54698998, 15.52465287, 15.06378285, 12.87586305, 13.41920455,\n",
       "       15.61682688, 14.62716914, 11.41563276,  9.62551656, 18.67797409,\n",
       "       20.78827368, 20.4535365 ,  8.18469132, 17.59129109, 18.66827156,\n",
       "       19.20191054, 10.73645588, 18.54698998, 16.72291493, 21.13271338,\n",
       "       14.95220379, 19.10003401, 13.71998288, 10.05242774,  9.37325086,\n",
       "       11.9007591 , 18.09097122, 18.28987302, 11.69700604, 19.77435962,\n",
       "       15.88849763, 19.78406215, 12.50716703,  7.43759676, 12.10451216,\n",
       "       20.98232421,  9.81956709, 18.63916398, 12.01233816,  8.87357073,\n",
       "       11.38167391, 17.06250337, 20.46323903, 15.61682688,  8.24775775,\n",
       "       10.59091798])"
      ]
     },
     "execution_count": 53,
     "metadata": {},
     "output_type": "execute_result"
    }
   ],
   "source": [
    "y_pred"
   ]
  },
  {
   "cell_type": "code",
   "execution_count": 54,
   "id": "40df0f8a",
   "metadata": {
    "execution": {
     "iopub.execute_input": "2023-03-07T07:22:26.252334Z",
     "iopub.status.busy": "2023-03-07T07:22:26.251903Z",
     "iopub.status.idle": "2023-03-07T07:22:26.256606Z",
     "shell.execute_reply": "2023-03-07T07:22:26.255695Z"
    },
    "papermill": {
     "duration": 0.028509,
     "end_time": "2023-03-07T07:22:26.259078",
     "exception": false,
     "start_time": "2023-03-07T07:22:26.230569",
     "status": "completed"
    },
    "tags": []
   },
   "outputs": [],
   "source": [
    "from sklearn.metrics import mean_squared_error \n",
    "from sklearn.metrics import r2_score"
   ]
  },
  {
   "cell_type": "code",
   "execution_count": 55,
   "id": "d88a0c10",
   "metadata": {
    "execution": {
     "iopub.execute_input": "2023-03-07T07:22:26.301751Z",
     "iopub.status.busy": "2023-03-07T07:22:26.301299Z",
     "iopub.status.idle": "2023-03-07T07:22:26.308550Z",
     "shell.execute_reply": "2023-03-07T07:22:26.307624Z"
    },
    "papermill": {
     "duration": 0.031211,
     "end_time": "2023-03-07T07:22:26.310560",
     "exception": false,
     "start_time": "2023-03-07T07:22:26.279349",
     "status": "completed"
    },
    "tags": []
   },
   "outputs": [
    {
     "data": {
      "text/plain": [
       "3.4507951056179205"
      ]
     },
     "execution_count": 55,
     "metadata": {},
     "output_type": "execute_result"
    }
   ],
   "source": [
    "np.sqrt(mean_squared_error (y_test,y_pred))"
   ]
  },
  {
   "cell_type": "code",
   "execution_count": 56,
   "id": "8b033091",
   "metadata": {
    "execution": {
     "iopub.execute_input": "2023-03-07T07:22:26.353968Z",
     "iopub.status.busy": "2023-03-07T07:22:26.352838Z",
     "iopub.status.idle": "2023-03-07T07:22:26.360938Z",
     "shell.execute_reply": "2023-03-07T07:22:26.359874Z"
    },
    "papermill": {
     "duration": 0.032028,
     "end_time": "2023-03-07T07:22:26.363205",
     "exception": false,
     "start_time": "2023-03-07T07:22:26.331177",
     "status": "completed"
    },
    "tags": []
   },
   "outputs": [
    {
     "data": {
      "text/plain": [
       "0.5538266058232684"
      ]
     },
     "execution_count": 56,
     "metadata": {},
     "output_type": "execute_result"
    }
   ],
   "source": [
    "r2=r2_score(y_test,y_pred)\n",
    "r2"
   ]
  },
  {
   "cell_type": "code",
   "execution_count": 57,
   "id": "268587aa",
   "metadata": {
    "execution": {
     "iopub.execute_input": "2023-03-07T07:22:26.406571Z",
     "iopub.status.busy": "2023-03-07T07:22:26.405362Z",
     "iopub.status.idle": "2023-03-07T07:22:26.614914Z",
     "shell.execute_reply": "2023-03-07T07:22:26.613613Z"
    },
    "papermill": {
     "duration": 0.233975,
     "end_time": "2023-03-07T07:22:26.617607",
     "exception": false,
     "start_time": "2023-03-07T07:22:26.383632",
     "status": "completed"
    },
    "tags": []
   },
   "outputs": [
    {
     "data": {
      "image/png": "[encoded data removed]",
      "text/plain": [
       "<Figure size 640x480 with 1 Axes>"
      ]
     },
     "metadata": {},
     "output_type": "display_data"
    }
   ],
   "source": [
    "plt.scatter(x_test,y_test)\n",
    "plt.plot(x_test,6.9955+0.0541*x_test,'y')\n",
    "plt.show()"
   ]
  }
 ],
 "metadata": {
  "kernelspec": {
   "display_name": "Python 3",
   "language": "python",
   "name": "python3"
  },
  "language_info": {
   "codemirror_mode": {
    "name": "ipython",
    "version": 3
   },
   "file_extension": ".py",
   "mimetype": "text/x-python",
   "name": "python",
   "nbconvert_exporter": "python",
   "pygments_lexer": "ipython3",
   "version": "3.7.12"
  },
  "papermill": {
   "default_parameters": {},
   "duration": 21.204422,
   "end_time": "2023-03-07T07:22:27.563560",
   "environment_variables": {},
   "exception": null,
   "input_path": "__notebook__.ipynb",
   "output_path": "__notebook__.ipynb",
   "parameters": {},
   "start_time": "2023-03-07T07:22:06.359138",
   "version": "2.4.0"
  }
 },
 "nbformat": 4,
 "nbformat_minor": 5
}
